{
  "nbformat": 4,
  "nbformat_minor": 0,
  "metadata": {
    "colab": {
      "provenance": []
    },
    "kernelspec": {
      "name": "python3",
      "display_name": "Python 3"
    },
    "language_info": {
      "name": "python"
    }
  },
  "cells": [
    {
      "cell_type": "code",
      "execution_count": 89,
      "metadata": {
        "id": "4BS5gzr-bCR3"
      },
      "outputs": [],
      "source": [
        "with open('3 Nowy Bieżanów.txt') as f:\n",
        "    lines = f.readlines()"
      ]
    },
    {
      "cell_type": "code",
      "source": [
        "lines"
      ],
      "metadata": {
        "id": "EyGnWR_5bbrU",
        "colab": {
          "base_uri": "https://localhost:8080/"
        },
        "outputId": "7e40ff9e-c8d5-4c2d-8ca6-38161ce784e8"
      },
      "execution_count": 90,
      "outputs": [
        {
          "output_type": "execute_result",
          "data": {
            "text/plain": [
              "['4\\t55\\t\\n',\n",
              " '5\\t10 17 27 35 41 51 57\\t\\n',\n",
              " '6\\t06 12 19 27 35 42 50 57\\t\\n',\n",
              " '7\\t05 12 20 27 35 42 50 58\\t\\n',\n",
              " '8\\t05 13 21 28 36 43 51 58\\t\\n',\n",
              " '9\\t06 13 21 28 36 43 51 58\\t\\n',\n",
              " '10\\t06 13 21 28 36 43 51 58\\t\\n',\n",
              " '11\\t06 13 21 28 36 43 51 58\\t\\n',\n",
              " '12\\t06 13 21 28 36 43 51 58\\t\\n',\n",
              " '13\\t06 13 21 28 36 43 51 58\\t\\n',\n",
              " '14\\t05 13 20 27 35 42 50 57\\t\\n',\n",
              " '15\\t05 12 20 27 35 42 50 57\\t\\n',\n",
              " '16\\t05 12 20 27 35 42 50 57\\t\\n',\n",
              " '17\\t05 12 20 26 35 41 50 56\\t\\n',\n",
              " '18\\t05 12 20 28 35 44 59\\t\\n',\n",
              " '19\\t14 29 44 59\\t\\n',\n",
              " '20\\t19 39 59\\t\\n',\n",
              " '21\\t19 39\\t\\n',\n",
              " '22\\t01 21 41\\t\\n',\n",
              " '23\\t01\\t']"
            ]
          },
          "metadata": {},
          "execution_count": 90
        }
      ]
    },
    {
      "cell_type": "code",
      "source": [
        "def getListFromHour(line):\n",
        "  splitted_line= line.split('\\t')\n",
        "  hour = splitted_line[0]\n",
        "  minutes = splitted_line[1].split(\" \")\n",
        "  list_ = list()\n",
        "  for x in minutes:\n",
        "    x = x.strip()\n",
        "    if x !=\"\":\n",
        "      list_.append(hour + \":\" + x)\n",
        "  return list_"
      ],
      "metadata": {
        "id": "2F5UOeCQbiQA"
      },
      "execution_count": 91,
      "outputs": []
    },
    {
      "cell_type": "code",
      "source": [
        "import csv\n",
        "def writeToCSV(lines):\n",
        "  list_csv = list()\n",
        "  for line in lines:\n",
        "      list_csv.append(getListFromHour(line))\n",
        "      \n",
        "  with open('3 Nowy Bieżanów.csv', 'w', newline = '') as f:\n",
        "    print(list_csv)\n",
        "    write = csv.writer(f)\n",
        "    write.writerow(list_csv)\n",
        "\n",
        "  f.close()"
      ],
      "metadata": {
        "id": "Grzes9H5d_Dg"
      },
      "execution_count": 92,
      "outputs": []
    },
    {
      "cell_type": "code",
      "source": [
        "writeToCSV(lines)"
      ],
      "metadata": {
        "colab": {
          "base_uri": "https://localhost:8080/"
        },
        "id": "a75O0PhjhGOW",
        "outputId": "42355291-599d-4aa1-fb96-0300bf53c022"
      },
      "execution_count": 93,
      "outputs": [
        {
          "output_type": "stream",
          "name": "stdout",
          "text": [
            "[['4:55'], ['5:10', '5:17', '5:27', '5:35', '5:41', '5:51', '5:57'], ['6:06', '6:12', '6:19', '6:27', '6:35', '6:42', '6:50', '6:57'], ['7:05', '7:12', '7:20', '7:27', '7:35', '7:42', '7:50', '7:58'], ['8:05', '8:13', '8:21', '8:28', '8:36', '8:43', '8:51', '8:58'], ['9:06', '9:13', '9:21', '9:28', '9:36', '9:43', '9:51', '9:58'], ['10:06', '10:13', '10:21', '10:28', '10:36', '10:43', '10:51', '10:58'], ['11:06', '11:13', '11:21', '11:28', '11:36', '11:43', '11:51', '11:58'], ['12:06', '12:13', '12:21', '12:28', '12:36', '12:43', '12:51', '12:58'], ['13:06', '13:13', '13:21', '13:28', '13:36', '13:43', '13:51', '13:58'], ['14:05', '14:13', '14:20', '14:27', '14:35', '14:42', '14:50', '14:57'], ['15:05', '15:12', '15:20', '15:27', '15:35', '15:42', '15:50', '15:57'], ['16:05', '16:12', '16:20', '16:27', '16:35', '16:42', '16:50', '16:57'], ['17:05', '17:12', '17:20', '17:26', '17:35', '17:41', '17:50', '17:56'], ['18:05', '18:12', '18:20', '18:28', '18:35', '18:44', '18:59'], ['19:14', '19:29', '19:44', '19:59'], ['20:19', '20:39', '20:59'], ['21:19', '21:39'], ['22:01', '22:21', '22:41'], ['23:01']]\n"
          ]
        }
      ]
    }
  ]
}